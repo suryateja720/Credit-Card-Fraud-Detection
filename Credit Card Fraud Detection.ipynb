{
 "cells": [
  {
   "cell_type": "code",
   "execution_count": 1,
   "metadata": {
    "_cell_guid": "b1076dfc-b9ad-4769-8c92-a6c4dae69d19",
    "_uuid": "8f2839f25d086af736a60e9eeb907d3b93b6e0e5",
    "execution": {
     "iopub.execute_input": "2022-10-08T02:15:55.391257Z",
     "iopub.status.busy": "2022-10-08T02:15:55.390403Z",
     "iopub.status.idle": "2022-10-08T02:21:07.911473Z",
     "shell.execute_reply": "2022-10-08T02:21:07.910316Z",
     "shell.execute_reply.started": "2022-10-08T02:15:55.391195Z"
    }
   },
   "outputs": [],
   "source": [
    "import pandas as pd\n",
    "import seaborn as sn\n",
    "import matplotlib.pyplot as plt\n",
    "from sklearn.preprocessing import MinMaxScaler\n",
    "from sklearn.model_selection import train_test_split\n",
    "import keras.activations,keras.losses\n",
    "from keras.models import  Sequential\n",
    "from keras.layers import Dense\n",
    "from imblearn.over_sampling import RandomOverSampler\n"
   ]
  },
  {
   "cell_type": "code",
   "execution_count": 2,
   "metadata": {
    "_cell_guid": "b1076dfc-b9ad-4769-8c92-a6c4dae69d19",
    "_uuid": "8f2839f25d086af736a60e9eeb907d3b93b6e0e5",
    "execution": {
     "iopub.execute_input": "2022-10-08T02:15:55.391257Z",
     "iopub.status.busy": "2022-10-08T02:15:55.390403Z",
     "iopub.status.idle": "2022-10-08T02:21:07.911473Z",
     "shell.execute_reply": "2022-10-08T02:21:07.910316Z",
     "shell.execute_reply.started": "2022-10-08T02:15:55.391195Z"
    }
   },
   "outputs": [
    {
     "data": {
      "text/html": [
       "<div>\n",
       "<style scoped>\n",
       "    .dataframe tbody tr th:only-of-type {\n",
       "        vertical-align: middle;\n",
       "    }\n",
       "\n",
       "    .dataframe tbody tr th {\n",
       "        vertical-align: top;\n",
       "    }\n",
       "\n",
       "    .dataframe thead th {\n",
       "        text-align: right;\n",
       "    }\n",
       "</style>\n",
       "<table border=\"1\" class=\"dataframe\">\n",
       "  <thead>\n",
       "    <tr style=\"text-align: right;\">\n",
       "      <th></th>\n",
       "      <th>Time</th>\n",
       "      <th>V1</th>\n",
       "      <th>V2</th>\n",
       "      <th>V3</th>\n",
       "      <th>V4</th>\n",
       "      <th>V5</th>\n",
       "      <th>V6</th>\n",
       "      <th>V7</th>\n",
       "      <th>V8</th>\n",
       "      <th>V9</th>\n",
       "      <th>...</th>\n",
       "      <th>V21</th>\n",
       "      <th>V22</th>\n",
       "      <th>V23</th>\n",
       "      <th>V24</th>\n",
       "      <th>V25</th>\n",
       "      <th>V26</th>\n",
       "      <th>V27</th>\n",
       "      <th>V28</th>\n",
       "      <th>Amount</th>\n",
       "      <th>class</th>\n",
       "    </tr>\n",
       "  </thead>\n",
       "  <tbody>\n",
       "    <tr>\n",
       "      <th>0</th>\n",
       "      <td>0.0</td>\n",
       "      <td>-1.359807</td>\n",
       "      <td>-0.072781</td>\n",
       "      <td>2.536347</td>\n",
       "      <td>1.378155</td>\n",
       "      <td>-0.338321</td>\n",
       "      <td>0.462388</td>\n",
       "      <td>0.239599</td>\n",
       "      <td>0.098698</td>\n",
       "      <td>0.363787</td>\n",
       "      <td>...</td>\n",
       "      <td>-0.018307</td>\n",
       "      <td>0.277838</td>\n",
       "      <td>-0.110474</td>\n",
       "      <td>0.066928</td>\n",
       "      <td>0.128539</td>\n",
       "      <td>-0.189115</td>\n",
       "      <td>0.133558</td>\n",
       "      <td>-0.021053</td>\n",
       "      <td>149.62</td>\n",
       "      <td>0</td>\n",
       "    </tr>\n",
       "    <tr>\n",
       "      <th>1</th>\n",
       "      <td>0.0</td>\n",
       "      <td>1.191857</td>\n",
       "      <td>0.266151</td>\n",
       "      <td>0.166480</td>\n",
       "      <td>0.448154</td>\n",
       "      <td>0.060018</td>\n",
       "      <td>-0.082361</td>\n",
       "      <td>-0.078803</td>\n",
       "      <td>0.085102</td>\n",
       "      <td>-0.255425</td>\n",
       "      <td>...</td>\n",
       "      <td>-0.225775</td>\n",
       "      <td>-0.638672</td>\n",
       "      <td>0.101288</td>\n",
       "      <td>-0.339846</td>\n",
       "      <td>0.167170</td>\n",
       "      <td>0.125895</td>\n",
       "      <td>-0.008983</td>\n",
       "      <td>0.014724</td>\n",
       "      <td>2.69</td>\n",
       "      <td>0</td>\n",
       "    </tr>\n",
       "    <tr>\n",
       "      <th>2</th>\n",
       "      <td>1.0</td>\n",
       "      <td>-1.358354</td>\n",
       "      <td>-1.340163</td>\n",
       "      <td>1.773209</td>\n",
       "      <td>0.379780</td>\n",
       "      <td>-0.503198</td>\n",
       "      <td>1.800499</td>\n",
       "      <td>0.791461</td>\n",
       "      <td>0.247676</td>\n",
       "      <td>-1.514654</td>\n",
       "      <td>...</td>\n",
       "      <td>0.247998</td>\n",
       "      <td>0.771679</td>\n",
       "      <td>0.909412</td>\n",
       "      <td>-0.689281</td>\n",
       "      <td>-0.327642</td>\n",
       "      <td>-0.139097</td>\n",
       "      <td>-0.055353</td>\n",
       "      <td>-0.059752</td>\n",
       "      <td>378.66</td>\n",
       "      <td>0</td>\n",
       "    </tr>\n",
       "    <tr>\n",
       "      <th>3</th>\n",
       "      <td>1.0</td>\n",
       "      <td>-0.966272</td>\n",
       "      <td>-0.185226</td>\n",
       "      <td>1.792993</td>\n",
       "      <td>-0.863291</td>\n",
       "      <td>-0.010309</td>\n",
       "      <td>1.247203</td>\n",
       "      <td>0.237609</td>\n",
       "      <td>0.377436</td>\n",
       "      <td>-1.387024</td>\n",
       "      <td>...</td>\n",
       "      <td>-0.108300</td>\n",
       "      <td>0.005274</td>\n",
       "      <td>-0.190321</td>\n",
       "      <td>-1.175575</td>\n",
       "      <td>0.647376</td>\n",
       "      <td>-0.221929</td>\n",
       "      <td>0.062723</td>\n",
       "      <td>0.061458</td>\n",
       "      <td>123.50</td>\n",
       "      <td>0</td>\n",
       "    </tr>\n",
       "    <tr>\n",
       "      <th>4</th>\n",
       "      <td>2.0</td>\n",
       "      <td>-1.158233</td>\n",
       "      <td>0.877737</td>\n",
       "      <td>1.548718</td>\n",
       "      <td>0.403034</td>\n",
       "      <td>-0.407193</td>\n",
       "      <td>0.095921</td>\n",
       "      <td>0.592941</td>\n",
       "      <td>-0.270533</td>\n",
       "      <td>0.817739</td>\n",
       "      <td>...</td>\n",
       "      <td>-0.009431</td>\n",
       "      <td>0.798278</td>\n",
       "      <td>-0.137458</td>\n",
       "      <td>0.141267</td>\n",
       "      <td>-0.206010</td>\n",
       "      <td>0.502292</td>\n",
       "      <td>0.219422</td>\n",
       "      <td>0.215153</td>\n",
       "      <td>69.99</td>\n",
       "      <td>0</td>\n",
       "    </tr>\n",
       "  </tbody>\n",
       "</table>\n",
       "<p>5 rows × 31 columns</p>\n",
       "</div>"
      ],
      "text/plain": [
       "   Time        V1        V2        V3        V4        V5        V6        V7  \\\n",
       "0   0.0 -1.359807 -0.072781  2.536347  1.378155 -0.338321  0.462388  0.239599   \n",
       "1   0.0  1.191857  0.266151  0.166480  0.448154  0.060018 -0.082361 -0.078803   \n",
       "2   1.0 -1.358354 -1.340163  1.773209  0.379780 -0.503198  1.800499  0.791461   \n",
       "3   1.0 -0.966272 -0.185226  1.792993 -0.863291 -0.010309  1.247203  0.237609   \n",
       "4   2.0 -1.158233  0.877737  1.548718  0.403034 -0.407193  0.095921  0.592941   \n",
       "\n",
       "         V8        V9  ...       V21       V22       V23       V24       V25  \\\n",
       "0  0.098698  0.363787  ... -0.018307  0.277838 -0.110474  0.066928  0.128539   \n",
       "1  0.085102 -0.255425  ... -0.225775 -0.638672  0.101288 -0.339846  0.167170   \n",
       "2  0.247676 -1.514654  ...  0.247998  0.771679  0.909412 -0.689281 -0.327642   \n",
       "3  0.377436 -1.387024  ... -0.108300  0.005274 -0.190321 -1.175575  0.647376   \n",
       "4 -0.270533  0.817739  ... -0.009431  0.798278 -0.137458  0.141267 -0.206010   \n",
       "\n",
       "        V26       V27       V28  Amount  class  \n",
       "0 -0.189115  0.133558 -0.021053  149.62      0  \n",
       "1  0.125895 -0.008983  0.014724    2.69      0  \n",
       "2 -0.139097 -0.055353 -0.059752  378.66      0  \n",
       "3 -0.221929  0.062723  0.061458  123.50      0  \n",
       "4  0.502292  0.219422  0.215153   69.99      0  \n",
       "\n",
       "[5 rows x 31 columns]"
      ]
     },
     "execution_count": 2,
     "metadata": {},
     "output_type": "execute_result"
    }
   ],
   "source": [
    "data=pd.read_csv('creditcard.csv')\n",
    "data.head()"
   ]
  },
  {
   "cell_type": "code",
   "execution_count": 3,
   "metadata": {
    "_cell_guid": "b1076dfc-b9ad-4769-8c92-a6c4dae69d19",
    "_uuid": "8f2839f25d086af736a60e9eeb907d3b93b6e0e5",
    "execution": {
     "iopub.execute_input": "2022-10-08T02:15:55.391257Z",
     "iopub.status.busy": "2022-10-08T02:15:55.390403Z",
     "iopub.status.idle": "2022-10-08T02:21:07.911473Z",
     "shell.execute_reply": "2022-10-08T02:21:07.910316Z",
     "shell.execute_reply.started": "2022-10-08T02:15:55.391195Z"
    }
   },
   "outputs": [
    {
     "data": {
      "image/png": "[encoded data removed]",
      "text/plain": [
       "<Figure size 432x288 with 2 Axes>"
      ]
     },
     "metadata": {
      "needs_background": "light"
     },
     "output_type": "display_data"
    }
   ],
   "source": [
    "sn.heatmap(data.corr())\n",
    "plt.show()"
   ]
  },
  {
   "cell_type": "code",
   "execution_count": 4,
   "metadata": {
    "_cell_guid": "b1076dfc-b9ad-4769-8c92-a6c4dae69d19",
    "_uuid": "8f2839f25d086af736a60e9eeb907d3b93b6e0e5",
    "execution": {
     "iopub.execute_input": "2022-10-08T02:15:55.391257Z",
     "iopub.status.busy": "2022-10-08T02:15:55.390403Z",
     "iopub.status.idle": "2022-10-08T02:21:07.911473Z",
     "shell.execute_reply": "2022-10-08T02:21:07.910316Z",
     "shell.execute_reply.started": "2022-10-08T02:15:55.391195Z"
    }
   },
   "outputs": [
    {
     "name": "stderr",
     "output_type": "stream",
     "text": [
      "C:\\Users\\Surya\\anaconda3\\lib\\site-packages\\seaborn\\_decorators.py:36: FutureWarning: Pass the following variable as a keyword arg: x. From version 0.12, the only valid positional argument will be `data`, and passing other arguments without an explicit keyword will result in an error or misinterpretation.\n",
      "  warnings.warn(\n"
     ]
    },
    {
     "data": {
      "image/png": "[encoded data removed]",
      "text/plain": [
       "<Figure size 432x288 with 1 Axes>"
      ]
     },
     "metadata": {
      "needs_background": "light"
     },
     "output_type": "display_data"
    }
   ],
   "source": [
    "sn.countplot(data['class'])\n",
    "plt.show()"
   ]
  },
  {
   "cell_type": "code",
   "execution_count": 5,
   "metadata": {
    "_cell_guid": "b1076dfc-b9ad-4769-8c92-a6c4dae69d19",
    "_uuid": "8f2839f25d086af736a60e9eeb907d3b93b6e0e5",
    "execution": {
     "iopub.execute_input": "2022-10-08T02:15:55.391257Z",
     "iopub.status.busy": "2022-10-08T02:15:55.390403Z",
     "iopub.status.idle": "2022-10-08T02:21:07.911473Z",
     "shell.execute_reply": "2022-10-08T02:21:07.910316Z",
     "shell.execute_reply.started": "2022-10-08T02:15:55.391195Z"
    }
   },
   "outputs": [
    {
     "name": "stderr",
     "output_type": "stream",
     "text": [
      "C:\\Users\\Surya\\anaconda3\\lib\\site-packages\\seaborn\\_decorators.py:36: FutureWarning: Pass the following variable as a keyword arg: x. From version 0.12, the only valid positional argument will be `data`, and passing other arguments without an explicit keyword will result in an error or misinterpretation.\n",
      "  warnings.warn(\n"
     ]
    },
    {
     "data": {
      "image/png": "[encoded data removed]",
      "text/plain": [
       "<Figure size 432x288 with 1 Axes>"
      ]
     },
     "metadata": {
      "needs_background": "light"
     },
     "output_type": "display_data"
    }
   ],
   "source": [
    "oversample = RandomOverSampler(sampling_strategy='minority')\n",
    "\n",
    "stand=MinMaxScaler()\n",
    "\n",
    "x=data.iloc[:,1:29].values\n",
    "y=data['class'].values\n",
    "\n",
    "x=stand.fit_transform(x)\n",
    "y=pd.DataFrame(y)\n",
    "y=stand.fit_transform(y)\n",
    "\n",
    "x,y = oversample.fit_resample(x,y)\n",
    "sn.countplot(y)\n",
    "plt.show()"
   ]
  },
  {
   "cell_type": "code",
   "execution_count": 6,
   "metadata": {
    "_cell_guid": "b1076dfc-b9ad-4769-8c92-a6c4dae69d19",
    "_uuid": "8f2839f25d086af736a60e9eeb907d3b93b6e0e5",
    "execution": {
     "iopub.execute_input": "2022-10-08T02:15:55.391257Z",
     "iopub.status.busy": "2022-10-08T02:15:55.390403Z",
     "iopub.status.idle": "2022-10-08T02:21:07.911473Z",
     "shell.execute_reply": "2022-10-08T02:21:07.910316Z",
     "shell.execute_reply.started": "2022-10-08T02:15:55.391195Z"
    }
   },
   "outputs": [],
   "source": [
    "x_train,x_test,y_train,y_test=train_test_split(x,y,train_size=0.25)\n",
    "\n",
    "model=Sequential()\n",
    "model.add(Dense(units=x_train.shape[1],\n",
    "                activation=keras.activations.sigmoid))\n",
    "model.add(Dense(32,activation=keras.activations.sigmoid))\n",
    "model.add(Dense(units=1,\n",
    "                activation=keras.activations.sigmoid))\n",
    "\n",
    "model.compile(optimizer='adam',\n",
    "              loss=keras.losses.binary_crossentropy,\n",
    "              metrics=['accuracy'])"
   ]
  },
  {
   "cell_type": "code",
   "execution_count": 7,
   "metadata": {
    "_cell_guid": "b1076dfc-b9ad-4769-8c92-a6c4dae69d19",
    "_uuid": "8f2839f25d086af736a60e9eeb907d3b93b6e0e5",
    "execution": {
     "iopub.execute_input": "2022-10-08T02:15:55.391257Z",
     "iopub.status.busy": "2022-10-08T02:15:55.390403Z",
     "iopub.status.idle": "2022-10-08T02:21:07.911473Z",
     "shell.execute_reply": "2022-10-08T02:21:07.910316Z",
     "shell.execute_reply.started": "2022-10-08T02:15:55.391195Z"
    }
   },
   "outputs": [
    {
     "name": "stdout",
     "output_type": "stream",
     "text": [
      "Epoch 1/25\n",
      "4162/4162 [==============================] - 7s 1ms/step - loss: 0.2400 - accuracy: 0.9121\n",
      "Epoch 2/25\n",
      "4162/4162 [==============================] - 6s 1ms/step - loss: 0.1552 - accuracy: 0.9418\n",
      "Epoch 3/25\n",
      "4162/4162 [==============================] - 6s 1ms/step - loss: 0.1490 - accuracy: 0.9436\n",
      "Epoch 4/25\n",
      "4162/4162 [==============================] - 6s 1ms/step - loss: 0.1468 - accuracy: 0.9450\n",
      "Epoch 5/25\n",
      "4162/4162 [==============================] - 6s 1ms/step - loss: 0.1455 - accuracy: 0.9465\n",
      "Epoch 6/25\n",
      "4162/4162 [==============================] - 6s 1ms/step - loss: 0.1446 - accuracy: 0.9469\n",
      "Epoch 7/25\n",
      "4162/4162 [==============================] - 6s 1ms/step - loss: 0.1441 - accuracy: 0.9473\n",
      "Epoch 8/25\n",
      "4162/4162 [==============================] - 6s 1ms/step - loss: 0.1429 - accuracy: 0.9476\n",
      "Epoch 9/25\n",
      "4162/4162 [==============================] - 6s 1ms/step - loss: 0.1421 - accuracy: 0.9477\n",
      "Epoch 10/25\n",
      "4162/4162 [==============================] - 6s 1ms/step - loss: 0.1426 - accuracy: 0.9475\n",
      "Epoch 11/25\n",
      "4162/4162 [==============================] - 6s 1ms/step - loss: 0.1416 - accuracy: 0.9481\n",
      "Epoch 12/25\n",
      "4162/4162 [==============================] - 6s 1ms/step - loss: 0.1411 - accuracy: 0.9481\n",
      "Epoch 13/25\n",
      "4162/4162 [==============================] - 6s 1ms/step - loss: 0.1407 - accuracy: 0.9488\n",
      "Epoch 14/25\n",
      "4162/4162 [==============================] - 6s 1ms/step - loss: 0.1400 - accuracy: 0.9484\n",
      "Epoch 15/25\n",
      "4162/4162 [==============================] - 6s 1ms/step - loss: 0.1398 - accuracy: 0.9486\n",
      "Epoch 16/25\n",
      "4162/4162 [==============================] - 6s 1ms/step - loss: 0.1392 - accuracy: 0.9488\n",
      "Epoch 17/25\n",
      "4162/4162 [==============================] - 6s 1ms/step - loss: 0.1392 - accuracy: 0.9484\n",
      "Epoch 18/25\n",
      "4162/4162 [==============================] - 6s 1ms/step - loss: 0.1394 - accuracy: 0.9488\n",
      "Epoch 19/25\n",
      "4162/4162 [==============================] - 6s 1ms/step - loss: 0.1388 - accuracy: 0.9487\n",
      "Epoch 20/25\n",
      "4162/4162 [==============================] - 6s 1ms/step - loss: 0.1386 - accuracy: 0.9492\n",
      "Epoch 21/25\n",
      "4162/4162 [==============================] - 6s 1ms/step - loss: 0.1383 - accuracy: 0.9490\n",
      "Epoch 22/25\n",
      "4162/4162 [==============================] - 6s 1ms/step - loss: 0.1385 - accuracy: 0.9493\n",
      "Epoch 23/25\n",
      "4162/4162 [==============================] - 6s 1ms/step - loss: 0.1381 - accuracy: 0.9493\n",
      "Epoch 24/25\n",
      "4162/4162 [==============================] - 6s 1ms/step - loss: 0.1381 - accuracy: 0.9486\n",
      "Epoch 25/25\n",
      "4162/4162 [==============================] - 6s 1ms/step - loss: 0.1373 - accuracy: 0.9493\n"
     ]
    },
    {
     "data": {
      "text/plain": [
       "<keras.callbacks.History at 0x2282583a9a0>"
      ]
     },
     "execution_count": 7,
     "metadata": {},
     "output_type": "execute_result"
    }
   ],
   "source": [
    "model.fit(x_train,y_train,batch_size=20,epochs=25)"
   ]
  },
  {
   "cell_type": "code",
   "execution_count": 8,
   "metadata": {
    "_cell_guid": "b1076dfc-b9ad-4769-8c92-a6c4dae69d19",
    "_uuid": "8f2839f25d086af736a60e9eeb907d3b93b6e0e5",
    "execution": {
     "iopub.execute_input": "2022-10-08T02:15:55.391257Z",
     "iopub.status.busy": "2022-10-08T02:15:55.390403Z",
     "iopub.status.idle": "2022-10-08T02:21:07.911473Z",
     "shell.execute_reply": "2022-10-08T02:21:07.910316Z",
     "shell.execute_reply.started": "2022-10-08T02:15:55.391195Z"
    }
   },
   "outputs": [
    {
     "name": "stdout",
     "output_type": "stream",
     "text": [
      "7804/7804 [==============================] - 8s 1ms/step\n",
      "7804/7804 [==============================] - 9s 1ms/step - loss: 0.1382 - accuracy: 0.9467\n",
      "Loss :  0.1382\n",
      "Accuracy :  94.6662 %\n"
     ]
    }
   ],
   "source": [
    "pred = model.predict(x_test)\n",
    "ev = model.evaluate(x_test,y_test)\n",
    "print(\"Loss : \",round(ev[0],4))\n",
    "print(\"Accuracy : \",round(ev[1]*100,4),\"%\")"
   ]
  },
  {
   "cell_type": "code",
   "execution_count": 9,
   "metadata": {},
   "outputs": [],
   "source": [
    "y_pred = []\n",
    "for x in pred:\n",
    "    y_pred.append(x>0.5)"
   ]
  },
  {
   "cell_type": "code",
   "execution_count": 10,
   "metadata": {},
   "outputs": [
    {
     "data": {
      "text/plain": [
       "array([[122391,   2422],\n",
       "       [ 10897, 114001]], dtype=int64)"
      ]
     },
     "execution_count": 10,
     "metadata": {},
     "output_type": "execute_result"
    }
   ],
   "source": [
    "from sklearn.metrics import confusion_matrix\n",
    "confusion_matrix(y_test,y_pred)"
   ]
  },
  {
   "cell_type": "code",
   "execution_count": null,
   "metadata": {},
   "outputs": [],
   "source": []
  }
 ],
 "metadata": {
  "kernelspec": {
   "display_name": "Python 3 (ipykernel)",
   "language": "python",
   "name": "python3"
  },
  "language_info": {
   "codemirror_mode": {
    "name": "ipython",
    "version": 3
   },
   "file_extension": ".py",
   "mimetype": "text/x-python",
   "name": "python",
   "nbconvert_exporter": "python",
   "pygments_lexer": "ipython3",
   "version": "3.9.12"
  }
 },
 "nbformat": 4,
 "nbformat_minor": 4
}
